{
 "cells": [
  {
   "cell_type": "code",
   "execution_count": 1,
   "id": "91ce370f",
   "metadata": {
    "scrolled": true
   },
   "outputs": [
    {
     "name": "stderr",
     "output_type": "stream",
     "text": [
      "\n",
      "Attaching package: 'dplyr'\n",
      "\n",
      "\n",
      "The following objects are masked from 'package:stats':\n",
      "\n",
      "    filter, lag\n",
      "\n",
      "\n",
      "The following objects are masked from 'package:base':\n",
      "\n",
      "    intersect, setdiff, setequal, union\n",
      "\n",
      "\n",
      "Loading required package: ggplot2\n",
      "\n",
      "Google's Terms of Service: https://cloud.google.com/maps-platform/terms/.\n",
      "\n",
      "Please cite ggmap if you use it! See citation(\"ggmap\") for details.\n",
      "\n",
      "\n",
      "Attaching package: 'igraph'\n",
      "\n",
      "\n",
      "The following objects are masked from 'package:purrr':\n",
      "\n",
      "    compose, simplify\n",
      "\n",
      "\n",
      "The following objects are masked from 'package:dplyr':\n",
      "\n",
      "    as_data_frame, groups, union\n",
      "\n",
      "\n",
      "The following objects are masked from 'package:stats':\n",
      "\n",
      "    decompose, spectrum\n",
      "\n",
      "\n",
      "The following object is masked from 'package:base':\n",
      "\n",
      "    union\n",
      "\n",
      "\n"
     ]
    }
   ],
   "source": [
    "library(assertthat)\n",
    "library(dplyr)\n",
    "library(purrr)\n",
    "library(ggraph)\n",
    "library(ggmap)\n",
    "library(ggplot2)\n",
    "library(igraph)\n",
    "library(rjson)"
   ]
  },
  {
   "cell_type": "markdown",
   "id": "090d4a2e",
   "metadata": {},
   "source": [
    "## Read in Traffic Data for 4th Quarter Winter, December"
   ]
  },
  {
   "cell_type": "code",
   "execution_count": null,
   "id": "56809f5a",
   "metadata": {},
   "outputs": [],
   "source": [
    "santa_filename <- \"los_angeles-censustracts-2019-4-All-MonthlyAggregate.csv\"\n",
    "filepath <- \"santa_data\"\n",
    "santa_df <- read.csv(file.path(filepath, santa_filename),stringsAsFactors=FALSE,header=TRUE)"
   ]
  },
  {
   "cell_type": "code",
   "execution_count": null,
   "id": "52d459dd",
   "metadata": {},
   "outputs": [],
   "source": [
    "geo_filename <- \"los_angeles_censustracts.json\"\n",
    "geodata_json <- fromJSON(file=file.path(filepath, geo_filename))"
   ]
  },
  {
   "cell_type": "code",
   "execution_count": null,
   "id": "0613b205",
   "metadata": {},
   "outputs": [],
   "source": [
    "edge_list <- santa_df[santa_df$month==12,c(\"sourceid\",\"dstid\",\"mean_travel_time\")]\n",
    "names(edge_list) <- c(\"src\",\"dst\",\"weight\")"
   ]
  },
  {
   "cell_type": "code",
   "execution_count": null,
   "id": "0120630b",
   "metadata": {},
   "outputs": [],
   "source": [
    "location_graph <- graph_from_data_frame(edge_list,directed=FALSE)"
   ]
  },
  {
   "cell_type": "markdown",
   "id": "ab12f47f",
   "metadata": {},
   "source": [
    "## Get the Addresses and Longitude and Latitude"
   ]
  },
  {
   "cell_type": "code",
   "execution_count": null,
   "id": "0e4356a6",
   "metadata": {},
   "outputs": [],
   "source": [
    "V(location_graph)$centroid_x <- NA\n",
    "V(location_graph)$centroid_y <- NA\n",
    "V(location_graph)$location_id <- NA"
   ]
  },
  {
   "cell_type": "code",
   "execution_count": null,
   "id": "2af0403b",
   "metadata": {},
   "outputs": [],
   "source": [
    "key <- names(read.delim('C:/Users/lpott/Desktop/geolocation_key.txt'))\n",
    "register_google(key = key)"
   ]
  },
  {
   "cell_type": "code",
   "execution_count": null,
   "id": "9cf3f7eb",
   "metadata": {},
   "outputs": [],
   "source": [
    "for (feature in geodata_json$features){\n",
    "    centroid <- colMeans(matrix(unlist(feature$geometry$coordinates),ncol=2,byrow=TRUE))\n",
    "    vertex_id <- feature$properties$MOVEMENT_ID\n",
    "\n",
    "    if (!(vertex_id %in% V(location_graph)$name)){\n",
    "        next\n",
    "    }\n",
    "    #set.vertex.attribute(location_graph,'centroid',vertex_id,centroid)\n",
    "    V(location_graph)[vertex_id]$location_id <- revgeocode(c(centroid[1],centroid[2]),output='address')\n",
    "    V(location_graph)[vertex_id]$centroid_x <- centroid[1]\n",
    "    V(location_graph)[vertex_id]$centroid_y <- centroid[2]\n",
    "}"
   ]
  },
  {
   "cell_type": "code",
   "execution_count": 2,
   "id": "9ed36a06",
   "metadata": {},
   "outputs": [],
   "source": [
    "#save.image(file=\"open_ended.RData\")\n",
    "load(file=\"open_ended.RData\")"
   ]
  },
  {
   "cell_type": "markdown",
   "id": "ab73214d",
   "metadata": {},
   "source": [
    "## Simplify the graph by removing isolated nodes and aggregating multiple edge"
   ]
  },
  {
   "cell_type": "code",
   "execution_count": 3,
   "id": "bdcc93b4",
   "metadata": {},
   "outputs": [],
   "source": [
    "los_angeles_nodes <- V(location_graph)$name[sapply( V(location_graph)$location_id,function (x){grepl( \"Los Angeles\", x, fixed = TRUE)})]"
   ]
  },
  {
   "cell_type": "code",
   "execution_count": 4,
   "id": "7dee30ce",
   "metadata": {},
   "outputs": [],
   "source": [
    "los_angeles_graph <- induced.subgraph(location_graph,los_angeles_nodes)"
   ]
  },
  {
   "cell_type": "code",
   "execution_count": 5,
   "id": "df36fed8",
   "metadata": {},
   "outputs": [
    {
     "data": {
      "text/html": [
       "'Los Angeles Nodes 633 Edge 296254'"
      ],
      "text/latex": [
       "'Los Angeles Nodes 633 Edge 296254'"
      ],
      "text/markdown": [
       "'Los Angeles Nodes 633 Edge 296254'"
      ],
      "text/plain": [
       "[1] \"Los Angeles Nodes 633 Edge 296254\""
      ]
     },
     "metadata": {},
     "output_type": "display_data"
    }
   ],
   "source": [
    "sprintf(\"Los Angeles Nodes %d Edge %d\",vcount(los_angeles_graph),ecount(los_angeles_graph))"
   ]
  },
  {
   "cell_type": "code",
   "execution_count": 6,
   "id": "0955dc45",
   "metadata": {},
   "outputs": [],
   "source": [
    "cl<-clusters(los_angeles_graph)\n",
    "largest_g<-induced.subgraph(los_angeles_graph, which(cl$membership == which.max(cl$csize)))"
   ]
  },
  {
   "cell_type": "code",
   "execution_count": 7,
   "id": "e1bdabd0",
   "metadata": {},
   "outputs": [],
   "source": [
    "location_graph_simplified <- simplify(largest_g, edge.attr.comb=\"mean\",remove.loops=TRUE)"
   ]
  },
  {
   "cell_type": "code",
   "execution_count": 8,
   "id": "66339c8a",
   "metadata": {},
   "outputs": [
    {
     "data": {
      "text/html": [
       "'# Nodes: 633 , # Edges: 157232'"
      ],
      "text/latex": [
       "'\\# Nodes: 633 , \\# Edges: 157232'"
      ],
      "text/markdown": [
       "'# Nodes: 633 , # Edges: 157232'"
      ],
      "text/plain": [
       "[1] \"# Nodes: 633 , # Edges: 157232\""
      ]
     },
     "metadata": {},
     "output_type": "display_data"
    }
   ],
   "source": [
    "sprintf(\"# Nodes: %d , # Edges: %d\",vcount(location_graph_simplified),ecount(location_graph_simplified))"
   ]
  },
  {
   "cell_type": "markdown",
   "id": "4f6b188b",
   "metadata": {},
   "source": [
    "## Convert the graph to a directed graph"
   ]
  },
  {
   "cell_type": "code",
   "execution_count": 9,
   "id": "59b0b857",
   "metadata": {},
   "outputs": [],
   "source": [
    "location_graph_directed <- as.directed(location_graph_simplified,'mutual')"
   ]
  },
  {
   "cell_type": "code",
   "execution_count": 10,
   "id": "a099cc50",
   "metadata": {},
   "outputs": [
    {
     "data": {
      "text/html": [
       "'# Nodes: 633 , # Edges: 314464'"
      ],
      "text/latex": [
       "'\\# Nodes: 633 , \\# Edges: 314464'"
      ],
      "text/markdown": [
       "'# Nodes: 633 , # Edges: 314464'"
      ],
      "text/plain": [
       "[1] \"# Nodes: 633 , # Edges: 314464\""
      ]
     },
     "metadata": {},
     "output_type": "display_data"
    }
   ],
   "source": [
    "sprintf(\"# Nodes: %d , # Edges: %d\",vcount(location_graph_directed),ecount(location_graph_directed))"
   ]
  },
  {
   "cell_type": "markdown",
   "id": "3b1ccbcf",
   "metadata": {},
   "source": [
    "## Initialize Graph for Linear Threshold Model"
   ]
  },
  {
   "cell_type": "code",
   "execution_count": 11,
   "id": "4e3d18e4",
   "metadata": {},
   "outputs": [],
   "source": [
    "library(stringr)"
   ]
  },
  {
   "cell_type": "code",
   "execution_count": 12,
   "id": "d267bf44",
   "metadata": {},
   "outputs": [],
   "source": [
    "# invert the edge weight, as we want far distance (high weight) to have little influence\n",
    "E(location_graph_directed)$weight <- 1/E(location_graph_directed)$weight\n",
    "\n",
    "# normalize the edge weights, such that the sum of all the in edges is 1\n",
    "E(location_graph_directed)$weight <- E(location_graph_directed)$weight / strength(location_graph_directed, mode=\"in\")[get.edgelist(location_graph_directed)[,2]]"
   ]
  },
  {
   "cell_type": "markdown",
   "id": "e86ab930",
   "metadata": {},
   "source": [
    "### linear threshold model algorithm"
   ]
  },
  {
   "cell_type": "code",
   "execution_count": 99,
   "id": "fc2b0fb5",
   "metadata": {},
   "outputs": [],
   "source": [
    "trials <- 1000\n",
    "time_steps <- 75\n",
    "active_set_sizes <- c(5,10,15,20,25,30,45,50)\n",
    "results_list <- vector(mode = \"list\", length = length(active_set_sizes))\n",
    "names(results_list) <- as.character(active_set_sizes)"
   ]
  },
  {
   "cell_type": "code",
   "execution_count": null,
   "id": "a6315042",
   "metadata": {
    "scrolled": true
   },
   "outputs": [],
   "source": [
    "for (active_set_size in c(5,10,15,20,25,30,45,50)){\n",
    "    ptm <- proc.time()\n",
    "\n",
    "#     print(sprintf(\"===================Active Set Size %d=================\",active_set_size))\n",
    "#     flush.console()\n",
    "    # select a random amount of nodes for target size to activate... based on heuristics ...\n",
    "    \n",
    "    n_initial_nodes <- active_set_size\n",
    "    start_nodes <- names(sort(degree(location_graph_directed),decreasing=TRUE)[1:n_initial_nodes])\n",
    "    active_counts <- matrix(nrow=trials,ncol=time_steps)\n",
    "    \n",
    "    for (T in seq_len(trials)){\n",
    "#         ptm <- proc.time()\n",
    "        # each node has a latent threshold to become active from influence of neighbors\n",
    "        V(location_graph_directed)$theta <- runif(vcount(location_graph_directed))\n",
    "        thresholds <- V(location_graph_directed)$theta\n",
    "\n",
    "        # change the active status to ON!, and initialize first active nodes!\n",
    "        V(location_graph_directed)$active <- 0\n",
    "        V(location_graph_directed)[start_nodes]$active <- 1\n",
    "\n",
    "        # get directed weighted adjacency matrix\n",
    "        adjacency_matrix <- get.adjacency(location_graph_directed,attr='weight')\n",
    "\n",
    "        # apply algorithm for T time steps\n",
    "        for (t in seq_len(time_steps)){\n",
    "    #         print(sprintf(\"===================Time Step %d=================\",t))\n",
    "\n",
    "    #         ptm <- proc.time()\n",
    "\n",
    "            sweeped_data <- sweep(adjacency_matrix,MARGIN=2,V(location_graph_directed)$active,'*')\n",
    "            new_active <- as.integer(Matrix::rowSums(sweeped_data) > thresholds) |  V(location_graph_directed)$active\n",
    "            V(location_graph_directed)$active <- new_active\n",
    "\n",
    "\n",
    "    #         print_string <- sprintf(\"elapsed time %.4f\",(proc.time() - ptm)[1])\n",
    "    #         print(print_string)\n",
    "    #         flush.console()\n",
    "            active_counts[T,t] <- sum(new_active)\n",
    "        }\n",
    "#         print(sprintf(\"===================Trial %d ---- Time %.5f=================\",T,(proc.time() - ptm)[1]))\n",
    "#         flush.console()\n",
    "    }\n",
    "    print(sprintf(\"===================Active Set Size %d ---- Time %.5f=================\",active_set_size,(proc.time() - ptm)[1]))\n",
    "    flush.console()\n",
    "    results_list[[as.character(active_set_size)]] <- active_counts\n",
    "}"
   ]
  },
  {
   "cell_type": "code",
   "execution_count": 96,
   "id": "ad8e255a",
   "metadata": {},
   "outputs": [
    {
     "data": {
      "image/png": "[encoded data removed]",
      "text/plain": [
       "plot without title"
      ]
     },
     "metadata": {
      "image/png": {
       "height": 420,
       "width": 420
      }
     },
     "output_type": "display_data"
    }
   ],
   "source": [
    "plot(colMeans(active_counts))"
   ]
  },
  {
   "cell_type": "code",
   "execution_count": null,
   "id": "339c45aa",
   "metadata": {},
   "outputs": [],
   "source": []
  }
 ],
 "metadata": {
  "kernelspec": {
   "display_name": "R",
   "language": "R",
   "name": "ir"
  },
  "language_info": {
   "codemirror_mode": "r",
   "file_extension": ".r",
   "mimetype": "text/x-r-source",
   "name": "R",
   "pygments_lexer": "r",
   "version": "4.1.1"
  }
 },
 "nbformat": 4,
 "nbformat_minor": 5
}
