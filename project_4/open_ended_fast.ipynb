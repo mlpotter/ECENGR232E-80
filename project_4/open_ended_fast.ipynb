{
 "cells": [
  {
   "cell_type": "code",
   "execution_count": 1,
   "id": "91ce370f",
   "metadata": {
    "scrolled": true
   },
   "outputs": [
    {
     "name": "stderr",
     "output_type": "stream",
     "text": [
      "\n",
      "Attaching package: 'dplyr'\n",
      "\n",
      "\n",
      "The following objects are masked from 'package:stats':\n",
      "\n",
      "    filter, lag\n",
      "\n",
      "\n",
      "The following objects are masked from 'package:base':\n",
      "\n",
      "    intersect, setdiff, setequal, union\n",
      "\n",
      "\n",
      "Loading required package: ggplot2\n",
      "\n",
      "Google's Terms of Service: https://cloud.google.com/maps-platform/terms/.\n",
      "\n",
      "Please cite ggmap if you use it! See citation(\"ggmap\") for details.\n",
      "\n",
      "\n",
      "Attaching package: 'igraph'\n",
      "\n",
      "\n",
      "The following objects are masked from 'package:purrr':\n",
      "\n",
      "    compose, simplify\n",
      "\n",
      "\n",
      "The following objects are masked from 'package:dplyr':\n",
      "\n",
      "    as_data_frame, groups, union\n",
      "\n",
      "\n",
      "The following objects are masked from 'package:stats':\n",
      "\n",
      "    decompose, spectrum\n",
      "\n",
      "\n",
      "The following object is masked from 'package:base':\n",
      "\n",
      "    union\n",
      "\n",
      "\n"
     ]
    }
   ],
   "source": [
    "library(assertthat)\n",
    "library(dplyr)\n",
    "library(purrr)\n",
    "library(ggraph)\n",
    "library(ggmap)\n",
    "library(ggplot2)\n",
    "library(igraph)\n",
    "library(rjson)"
   ]
  },
  {
   "cell_type": "markdown",
   "id": "090d4a2e",
   "metadata": {},
   "source": [
    "## Read in Traffic Data for 4th Quarter Winter, December"
   ]
  },
  {
   "cell_type": "code",
   "execution_count": null,
   "id": "56809f5a",
   "metadata": {},
   "outputs": [],
   "source": [
    "santa_filename <- \"los_angeles-censustracts-2019-4-All-MonthlyAggregate.csv\"\n",
    "filepath <- \"santa_data\"\n",
    "santa_df <- read.csv(file.path(filepath, santa_filename),stringsAsFactors=FALSE,header=TRUE)"
   ]
  },
  {
   "cell_type": "code",
   "execution_count": null,
   "id": "52d459dd",
   "metadata": {},
   "outputs": [],
   "source": [
    "geo_filename <- \"los_angeles_censustracts.json\"\n",
    "geodata_json <- fromJSON(file=file.path(filepath, geo_filename))"
   ]
  },
  {
   "cell_type": "code",
   "execution_count": null,
   "id": "0613b205",
   "metadata": {},
   "outputs": [],
   "source": [
    "edge_list <- santa_df[santa_df$month==12,c(\"sourceid\",\"dstid\",\"mean_travel_time\")]\n",
    "names(edge_list) <- c(\"src\",\"dst\",\"weight\")"
   ]
  },
  {
   "cell_type": "code",
   "execution_count": null,
   "id": "0120630b",
   "metadata": {},
   "outputs": [],
   "source": [
    "location_graph <- graph_from_data_frame(edge_list,directed=FALSE)"
   ]
  },
  {
   "cell_type": "markdown",
   "id": "ab12f47f",
   "metadata": {},
   "source": [
    "## Get the Addresses and Longitude and Latitude"
   ]
  },
  {
   "cell_type": "code",
   "execution_count": null,
   "id": "0e4356a6",
   "metadata": {},
   "outputs": [],
   "source": [
    "V(location_graph)$centroid_x <- NA\n",
    "V(location_graph)$centroid_y <- NA\n",
    "V(location_graph)$location_id <- NA"
   ]
  },
  {
   "cell_type": "code",
   "execution_count": null,
   "id": "2af0403b",
   "metadata": {},
   "outputs": [],
   "source": [
    "key <- names(read.delim('C:/Users/lpott/Desktop/geolocation_key.txt'))\n",
    "register_google(key = key)"
   ]
  },
  {
   "cell_type": "code",
   "execution_count": null,
   "id": "9cf3f7eb",
   "metadata": {},
   "outputs": [],
   "source": [
    "for (feature in geodata_json$features){\n",
    "    centroid <- colMeans(matrix(unlist(feature$geometry$coordinates),ncol=2,byrow=TRUE))\n",
    "    vertex_id <- feature$properties$MOVEMENT_ID\n",
    "\n",
    "    if (!(vertex_id %in% V(location_graph)$name)){\n",
    "        next\n",
    "    }\n",
    "    #set.vertex.attribute(location_graph,'centroid',vertex_id,centroid)\n",
    "    V(location_graph)[vertex_id]$location_id <- revgeocode(c(centroid[1],centroid[2]),output='address')\n",
    "    V(location_graph)[vertex_id]$centroid_x <- centroid[1]\n",
    "    V(location_graph)[vertex_id]$centroid_y <- centroid[2]\n",
    "}"
   ]
  },
  {
   "cell_type": "markdown",
   "id": "ab73214d",
   "metadata": {},
   "source": [
    "## Simplify the graph by removing isolated nodes and aggregating multiple edge"
   ]
  },
  {
   "cell_type": "code",
   "execution_count": 2,
   "id": "9ed36a06",
   "metadata": {},
   "outputs": [],
   "source": [
    "#save.image(file=\"open_ended.RData\")\n",
    "load(file=\"open_ended.RData\")"
   ]
  },
  {
   "cell_type": "code",
   "execution_count": 3,
   "id": "bdcc93b4",
   "metadata": {},
   "outputs": [],
   "source": [
    "los_angeles_nodes <- V(location_graph)$name[sapply( V(location_graph)$location_id,function (x){grepl( \"Los Angeles\", x, fixed = TRUE)})]"
   ]
  },
  {
   "cell_type": "code",
   "execution_count": 4,
   "id": "7dee30ce",
   "metadata": {},
   "outputs": [],
   "source": [
    "los_angeles_graph <- induced.subgraph(location_graph,los_angeles_nodes)"
   ]
  },
  {
   "cell_type": "code",
   "execution_count": 5,
   "id": "df36fed8",
   "metadata": {},
   "outputs": [
    {
     "data": {
      "text/html": [
       "'Los Angeles Nodes 633 Edge 296254'"
      ],
      "text/latex": [
       "'Los Angeles Nodes 633 Edge 296254'"
      ],
      "text/markdown": [
       "'Los Angeles Nodes 633 Edge 296254'"
      ],
      "text/plain": [
       "[1] \"Los Angeles Nodes 633 Edge 296254\""
      ]
     },
     "metadata": {},
     "output_type": "display_data"
    }
   ],
   "source": [
    "sprintf(\"Los Angeles Nodes %d Edge %d\",vcount(los_angeles_graph),ecount(los_angeles_graph))"
   ]
  },
  {
   "cell_type": "code",
   "execution_count": 6,
   "id": "0955dc45",
   "metadata": {},
   "outputs": [],
   "source": [
    "cl<-clusters(los_angeles_graph)\n",
    "largest_g<-induced.subgraph(los_angeles_graph, which(cl$membership == which.max(cl$csize)))"
   ]
  },
  {
   "cell_type": "code",
   "execution_count": 7,
   "id": "e1bdabd0",
   "metadata": {},
   "outputs": [],
   "source": [
    "location_graph_simplified <- simplify(largest_g, edge.attr.comb=\"mean\",remove.loops=TRUE)"
   ]
  },
  {
   "cell_type": "code",
   "execution_count": 8,
   "id": "66339c8a",
   "metadata": {},
   "outputs": [
    {
     "data": {
      "text/html": [
       "'# Nodes: 633 , # Edges: 157232'"
      ],
      "text/latex": [
       "'\\# Nodes: 633 , \\# Edges: 157232'"
      ],
      "text/markdown": [
       "'# Nodes: 633 , # Edges: 157232'"
      ],
      "text/plain": [
       "[1] \"# Nodes: 633 , # Edges: 157232\""
      ]
     },
     "metadata": {},
     "output_type": "display_data"
    }
   ],
   "source": [
    "sprintf(\"# Nodes: %d , # Edges: %d\",vcount(location_graph_simplified),ecount(location_graph_simplified))"
   ]
  },
  {
   "cell_type": "markdown",
   "id": "4f6b188b",
   "metadata": {},
   "source": [
    "## Convert the graph to a directed graph"
   ]
  },
  {
   "cell_type": "code",
   "execution_count": 9,
   "id": "59b0b857",
   "metadata": {},
   "outputs": [],
   "source": [
    "location_graph_directed <- as.directed(location_graph_simplified,'mutual')"
   ]
  },
  {
   "cell_type": "code",
   "execution_count": 10,
   "id": "a099cc50",
   "metadata": {},
   "outputs": [
    {
     "data": {
      "text/html": [
       "'# Nodes: 633 , # Edges: 314464'"
      ],
      "text/latex": [
       "'\\# Nodes: 633 , \\# Edges: 314464'"
      ],
      "text/markdown": [
       "'# Nodes: 633 , # Edges: 314464'"
      ],
      "text/plain": [
       "[1] \"# Nodes: 633 , # Edges: 314464\""
      ]
     },
     "metadata": {},
     "output_type": "display_data"
    }
   ],
   "source": [
    "sprintf(\"# Nodes: %d , # Edges: %d\",vcount(location_graph_directed),ecount(location_graph_directed))"
   ]
  },
  {
   "cell_type": "markdown",
   "id": "3b1ccbcf",
   "metadata": {},
   "source": [
    "## Initialize Graph for Linear Threshold Model"
   ]
  },
  {
   "cell_type": "code",
   "execution_count": 11,
   "id": "4e3d18e4",
   "metadata": {},
   "outputs": [],
   "source": [
    "library(stringr)"
   ]
  },
  {
   "cell_type": "code",
   "execution_count": 12,
   "id": "d267bf44",
   "metadata": {},
   "outputs": [],
   "source": [
    "# invert the edge weight, as we want far distance (high weight) to have little influence\n",
    "E(location_graph_directed)$weight <- 1/E(location_graph_directed)$weight\n",
    "\n",
    "# normalize the edge weights, such that the sum of all the in edges is 1\n",
    "E(location_graph_directed)$weight <- E(location_graph_directed)$weight / strength(location_graph_directed, mode=\"in\")[get.edgelist(location_graph_directed)[,2]]"
   ]
  },
  {
   "cell_type": "markdown",
   "id": "e86ab930",
   "metadata": {},
   "source": [
    "### linear threshold model algorithm"
   ]
  },
  {
   "cell_type": "code",
   "execution_count": 13,
   "id": "a0754e68",
   "metadata": {},
   "outputs": [],
   "source": [
    "trials <- 1000\n",
    "time_steps <- 75\n",
    "active_set_sizes <- c(5,10,15,20,25,30,45,50)\n",
    "results_list <- vector(mode = \"list\", length = length(active_set_sizes))\n",
    "names(results_list) <- as.character(active_set_sizes)"
   ]
  },
  {
   "cell_type": "code",
   "execution_count": 14,
   "id": "a6315042",
   "metadata": {
    "scrolled": true
   },
   "outputs": [
    {
     "name": "stdout",
     "output_type": "stream",
     "text": [
      "[1] \"===================Active Set Size 5 ---- Time 1948.75000=================\"\n",
      "[1] \"===================Active Set Size 10 ---- Time 2434.32000=================\"\n",
      "[1] \"===================Active Set Size 15 ---- Time 2712.12000=================\"\n",
      "[1] \"===================Active Set Size 20 ---- Time 3020.39000=================\"\n",
      "[1] \"===================Active Set Size 25 ---- Time 6361.86000=================\"\n",
      "[1] \"===================Active Set Size 30 ---- Time 3508.28000=================\"\n",
      "[1] \"===================Active Set Size 45 ---- Time 3513.64000=================\"\n",
      "[1] \"===================Active Set Size 50 ---- Time 3714.30000=================\"\n"
     ]
    }
   ],
   "source": [
    "for (active_set_size in active_set_sizes){\n",
    "    ptm <- proc.time()\n",
    "\n",
    "#     print(sprintf(\"===================Active Set Size %d=================\",active_set_size))\n",
    "#     flush.console()\n",
    "    # select a random amount of nodes for target size to activate... based on heuristics ...\n",
    "    \n",
    "    n_initial_nodes <- active_set_size\n",
    "#     start_nodes <- names(sort(degree(location_graph_directed),decreasing=TRUE)[1:n_initial_nodes])\n",
    "    start_nodes <- names(sort(betweenness(location_graph_directed),decreasing=TRUE)[1:n_initial_nodes])\n",
    "#     start_nodes <- sample(V(location_graph_directed)$name,n_initial_nodes)\n",
    "\n",
    "    active_counts <- matrix(nrow=trials,ncol=time_steps)\n",
    "    \n",
    "    for (T in seq_len(trials)){\n",
    "#         ptm <- proc.time()\n",
    "        # each node has a latent threshold to become active from influence of neighbors\n",
    "        V(location_graph_directed)$theta <- runif(vcount(location_graph_directed))\n",
    "        thresholds <- V(location_graph_directed)$theta\n",
    "\n",
    "        # change the active status to ON!, and initialize first active nodes!\n",
    "        V(location_graph_directed)$active <- 0\n",
    "        V(location_graph_directed)[start_nodes]$active <- 1\n",
    "\n",
    "        # get directed weighted adjacency matrix\n",
    "        adjacency_matrix <- get.adjacency(location_graph_directed,attr='weight')\n",
    "\n",
    "        # apply algorithm for T time steps\n",
    "        for (t in seq_len(time_steps)){\n",
    "    #         print(sprintf(\"===================Time Step %d=================\",t))\n",
    "\n",
    "    #         ptm <- proc.time()\n",
    "\n",
    "            sweeped_data <- sweep(adjacency_matrix,MARGIN=1,V(location_graph_directed)$active,'*')\n",
    "            new_active <- as.integer(Matrix::colSums(sweeped_data) > thresholds) |  V(location_graph_directed)$active\n",
    "            V(location_graph_directed)$active <- new_active\n",
    "\n",
    "\n",
    "    #         print_string <- sprintf(\"elapsed time %.4f\",(proc.time() - ptm)[1])\n",
    "    #         print(print_string)\n",
    "    #         flush.console()\n",
    "            active_counts[T,t] <- sum(new_active)\n",
    "        }\n",
    "#         print(sprintf(\"===================Trial %d ---- Time %.5f=================\",T,(proc.time() - ptm)[1]))\n",
    "#         flush.console()\n",
    "    }\n",
    "    print(sprintf(\"===================Active Set Size %d ---- Time %.5f=================\",active_set_size,(proc.time() - ptm)[1]))\n",
    "    flush.console()\n",
    "    results_list[[as.character(active_set_size)]] <- active_counts\n",
    "}"
   ]
  },
  {
   "cell_type": "code",
   "execution_count": 15,
   "id": "49a79ae5",
   "metadata": {},
   "outputs": [],
   "source": [
    "save(results_list,file=\"influence_degree_btw.RData\")"
   ]
  },
  {
   "cell_type": "markdown",
   "id": "f093e8a7",
   "metadata": {},
   "source": [
    "## cascade model"
   ]
  },
  {
   "cell_type": "code",
   "execution_count": null,
   "id": "ee4500da",
   "metadata": {},
   "outputs": [],
   "source": []
  },
  {
   "cell_type": "markdown",
   "id": "71a7f361",
   "metadata": {},
   "source": [
    "## Save and visualize results"
   ]
  },
  {
   "cell_type": "code",
   "execution_count": null,
   "id": "eba19d05",
   "metadata": {},
   "outputs": [],
   "source": [
    "#load(file=\"influence_degree.RData\")"
   ]
  },
  {
   "cell_type": "code",
   "execution_count": 16,
   "id": "ff22e4b3",
   "metadata": {},
   "outputs": [],
   "source": [
    "final_results <- unlist(lapply(results_list,function (x){colMeans(x)[time_steps]}))"
   ]
  },
  {
   "cell_type": "code",
   "execution_count": 17,
   "id": "bd11a887",
   "metadata": {},
   "outputs": [
    {
     "data": {
      "text/html": [
       "<strong>png:</strong> 3"
      ],
      "text/latex": [
       "\\textbf{png:} 3"
      ],
      "text/markdown": [
       "**png:** 3"
      ],
      "text/plain": [
       "png \n",
       "  3 "
      ]
     },
     "metadata": {},
     "output_type": "display_data"
    },
    {
     "data": {
      "text/html": [
       "<strong>png:</strong> 2"
      ],
      "text/latex": [
       "\\textbf{png:} 2"
      ],
      "text/markdown": [
       "**png:** 2"
      ],
      "text/plain": [
       "png \n",
       "  2 "
      ]
     },
     "metadata": {},
     "output_type": "display_data"
    },
    {
     "data": {
      "image/png": "[encoded data removed]",
      "text/plain": [
       "Plot with title \"Total Influenced vs Initial Set Size\""
      ]
     },
     "metadata": {
      "image/png": {
       "height": 420,
       "width": 420
      }
     },
     "output_type": "display_data"
    }
   ],
   "source": [
    "plot(active_set_sizes,final_results,\n",
    "    col='red',\n",
    "            main=sprintf(\"Total Influenced vs Initial Set Size\"),\n",
    "            xlab=\"Active Set Size\",\n",
    "            ylab=\"Number of Influenced Nodes\",\n",
    "    cex.main=2,\n",
    "    cex.lab=2,\n",
    "    cex=3)\n",
    "lines(active_set_sizes,final_results,col='blue')\n",
    "\n",
    "filename <- paste('images\\\\open_end_',\"total_influence_btw\",'.png')\n",
    "dev.copy(png,filename)\n",
    "dev.off()"
   ]
  },
  {
   "cell_type": "code",
   "execution_count": 18,
   "id": "f8254999",
   "metadata": {
    "scrolled": true
   },
   "outputs": [
    {
     "data": {
      "image/png": "[encoded data removed]",
      "text/plain": [
       "Plot with title \"Initial Set Size 5\""
      ]
     },
     "metadata": {
      "image/png": {
       "height": 420,
       "width": 420
      }
     },
     "output_type": "display_data"
    },
    {
     "data": {
      "image/png": "[encoded data removed]",
      "text/plain": [
       "Plot with title \"Initial Set Size 10\""
      ]
     },
     "metadata": {
      "image/png": {
       "height": 420,
       "width": 420
      }
     },
     "output_type": "display_data"
    },
    {
     "data": {
      "image/png": "[encoded data removed]",
      "text/plain": [
       "Plot with title \"Initial Set Size 15\""
      ]
     },
     "metadata": {
      "image/png": {
       "height": 420,
       "width": 420
      }
     },
     "output_type": "display_data"
    },
    {
     "data": {
      "image/png": "[encoded data removed]",
      "text/plain": [
       "Plot with title \"Initial Set Size 20\""
      ]
     },
     "metadata": {
      "image/png": {
       "height": 420,
       "width": 420
      }
     },
     "output_type": "display_data"
    },
    {
     "data": {
      "image/png": "[encoded data removed]",
      "text/plain": [
       "Plot with title \"Initial Set Size 25\""
      ]
     },
     "metadata": {
      "image/png": {
       "height": 420,
       "width": 420
      }
     },
     "output_type": "display_data"
    },
    {
     "data": {
      "image/png": "[encoded data removed]",
      "text/plain": [
       "Plot with title \"Initial Set Size 30\""
      ]
     },
     "metadata": {
      "image/png": {
       "height": 420,
       "width": 420
      }
     },
     "output_type": "display_data"
    },
    {
     "data": {
      "image/png": "[encoded data removed]",
      "text/plain": [
       "Plot with title \"Initial Set Size 45\""
      ]
     },
     "metadata": {
      "image/png": {
       "height": 420,
       "width": 420
      }
     },
     "output_type": "display_data"
    },
    {
     "data": {
      "image/png": "[encoded data removed]",
      "text/plain": [
       "Plot with title \"Initial Set Size 50\""
      ]
     },
     "metadata": {
      "image/png": {
       "height": 420,
       "width": 420
      }
     },
     "output_type": "display_data"
    }
   ],
   "source": [
    "for (active_set_ in as.character(active_set_sizes)){\n",
    "    plot(colMeans(results_list[[active_set_]]),\n",
    "            col='red',\n",
    "            main=sprintf(\"Initial Set Size %s\",active_set_),\n",
    "            xlab=\"Time Step\",\n",
    "            ylab=\"Number of Influenced Nodes\",\n",
    "             cex.main=2,\n",
    "    cex.lab=2,\n",
    "         cex=2\n",
    "    )\n",
    "    filename <- paste('images\\\\open_end_btw',active_set_,'.png')\n",
    "    dev.copy(png,filename)\n",
    "    dev.off()\n",
    "}"
   ]
  },
  {
   "cell_type": "markdown",
   "id": "5297022c",
   "metadata": {},
   "source": [
    "## Visualize Spread"
   ]
  },
  {
   "cell_type": "code",
   "execution_count": 19,
   "id": "0465940c",
   "metadata": {},
   "outputs": [],
   "source": [
    "vertex_df <- as.data.frame(list(\n",
    "      V(location_graph_directed)$name,\n",
    "      V(location_graph_directed)$centroid_x,\n",
    "     V(location_graph_directed)$centroid_y,\n",
    "     V(location_graph_directed)$location_id,\n",
    "    degree(location_graph_directed)\n",
    "     ))\n",
    "names(vertex_df) <- c('id','lon','lat','name','weight')"
   ]
  },
  {
   "cell_type": "code",
   "execution_count": 20,
   "id": "5fad1739",
   "metadata": {},
   "outputs": [
    {
     "data": {
      "text/html": [
       "TRUE"
      ],
      "text/latex": [
       "TRUE"
      ],
      "text/markdown": [
       "TRUE"
      ],
      "text/plain": [
       "[1] TRUE"
      ]
     },
     "metadata": {},
     "output_type": "display_data"
    }
   ],
   "source": [
    "edge_df <- as.data.frame(\n",
    "                        list(\n",
    "                        get.edgelist(as.undirected(location_graph_directed)),\n",
    "                        1\n",
    "                        )\n",
    "                        )\n",
    "names(edge_df) <- c(\"from\",\"to\",\"category\")\n",
    "\n",
    "edges_for_plot <- edge_df %>%\n",
    "  inner_join(vertex_df %>% select(id, lon, lat), by = c('from' = 'id')) %>%\n",
    "  rename(x = lon, y = lat) %>%\n",
    "  inner_join(vertex_df %>% select(id, lon, lat), by = c('to' = 'id')) %>%\n",
    "  rename(xend = lon, yend = lat)\n",
    "\n",
    "assert_that(nrow(edges_for_plot) == nrow(edge_df))"
   ]
  },
  {
   "cell_type": "code",
   "execution_count": 21,
   "id": "71fadad9",
   "metadata": {},
   "outputs": [
    {
     "data": {
      "text/html": [
       "157232"
      ],
      "text/latex": [
       "157232"
      ],
      "text/markdown": [
       "157232"
      ],
      "text/plain": [
       "[1] 157232"
      ]
     },
     "metadata": {},
     "output_type": "display_data"
    }
   ],
   "source": [
    "nrow(edges_for_plot)"
   ]
  },
  {
   "cell_type": "code",
   "execution_count": 22,
   "id": "21dd9b24",
   "metadata": {},
   "outputs": [
    {
     "data": {
      "text/html": [
       "157232"
      ],
      "text/latex": [
       "157232"
      ],
      "text/markdown": [
       "157232"
      ],
      "text/plain": [
       "[1] 157232"
      ]
     },
     "metadata": {},
     "output_type": "display_data"
    }
   ],
   "source": [
    "nrow(edge_df)"
   ]
  },
  {
   "cell_type": "code",
   "execution_count": 23,
   "id": "866ed9b4",
   "metadata": {},
   "outputs": [],
   "source": [
    "trials <- 1\n",
    "time_steps <- 75\n",
    "active_set_size <- 25"
   ]
  },
  {
   "cell_type": "code",
   "execution_count": 24,
   "id": "d0c2db57",
   "metadata": {},
   "outputs": [],
   "source": [
    "n_initial_nodes <- active_set_size\n",
    "# start_nodes <- names(sort(degree(location_graph_directed),decreasing=TRUE)[1:n_initial_nodes])\n",
    "start_nodes <- names(sort(betweenness(location_graph_directed),decreasing=TRUE)[1:n_initial_nodes])\n",
    "# start_nodes <- sample(V(location_graph_directed)$name,n_initial_nodes)\n",
    "active_counts <- matrix(nrow=trials,ncol=time_steps)"
   ]
  },
  {
   "cell_type": "code",
   "execution_count": 25,
   "id": "8491ac2c",
   "metadata": {},
   "outputs": [
    {
     "name": "stderr",
     "output_type": "stream",
     "text": [
      "Using zoom = 11...\n",
      "\n",
      "Source : http://tile.stamen.com/terrain/11/349/815.png\n",
      "\n",
      "Source : http://tile.stamen.com/terrain/11/350/815.png\n",
      "\n",
      "Source : http://tile.stamen.com/terrain/11/351/815.png\n",
      "\n",
      "Source : http://tile.stamen.com/terrain/11/352/815.png\n",
      "\n",
      "Source : http://tile.stamen.com/terrain/11/349/816.png\n",
      "\n",
      "Source : http://tile.stamen.com/terrain/11/350/816.png\n",
      "\n",
      "Source : http://tile.stamen.com/terrain/11/351/816.png\n",
      "\n",
      "Source : http://tile.stamen.com/terrain/11/352/816.png\n",
      "\n",
      "Source : http://tile.stamen.com/terrain/11/349/817.png\n",
      "\n",
      "Source : http://tile.stamen.com/terrain/11/350/817.png\n",
      "\n",
      "Source : http://tile.stamen.com/terrain/11/351/817.png\n",
      "\n",
      "Source : http://tile.stamen.com/terrain/11/352/817.png\n",
      "\n",
      "Source : http://tile.stamen.com/terrain/11/349/818.png\n",
      "\n",
      "Source : http://tile.stamen.com/terrain/11/350/818.png\n",
      "\n",
      "Source : http://tile.stamen.com/terrain/11/351/818.png\n",
      "\n",
      "Source : http://tile.stamen.com/terrain/11/352/818.png\n",
      "\n",
      "Saving 6.67 x 6.67 in image\n",
      "\n"
     ]
    },
    {
     "data": {
      "text/html": [
       "<strong>null device:</strong> 1"
      ],
      "text/latex": [
       "\\textbf{null device:} 1"
      ],
      "text/markdown": [
       "**null device:** 1"
      ],
      "text/plain": [
       "null device \n",
       "          1 "
      ]
     },
     "metadata": {},
     "output_type": "display_data"
    }
   ],
   "source": [
    "initial_plot <- qmplot(lon,lat,data=vertex_df,\n",
    "       colour = I('green'), \n",
    "       size = I(2), \n",
    "       darken = .3,\n",
    "      main=\"Los Angeles @ t=1\") + theme(plot.title = element_text(size=22)) + \n",
    "geom_point(data=vertex_df[start_nodes,],aes(x=lon,y=lat),colour='red',size=2) \n",
    "filename <- paste('images\\\\open_end_',sprintf(\"initial_infection_%d__btw\",n_initial_nodes),\"_t1_\",'.png')\n",
    "ggsave(filename,initial_plot)\n",
    "dev.off()"
   ]
  },
  {
   "cell_type": "code",
   "execution_count": 26,
   "id": "0fa3a2d8",
   "metadata": {
    "scrolled": true
   },
   "outputs": [
    {
     "name": "stderr",
     "output_type": "stream",
     "text": [
      "Using zoom = 11...\n",
      "\n",
      "Using zoom = 11...\n",
      "\n",
      "Using zoom = 11...\n",
      "\n",
      "Using zoom = 11...\n",
      "\n",
      "Using zoom = 11...\n",
      "\n",
      "Using zoom = 11...\n",
      "\n",
      "Using zoom = 11...\n",
      "\n",
      "Using zoom = 11...\n",
      "\n",
      "Using zoom = 11...\n",
      "\n",
      "Using zoom = 11...\n",
      "\n",
      "Using zoom = 11...\n",
      "\n",
      "Using zoom = 11...\n",
      "\n",
      "Using zoom = 11...\n",
      "\n",
      "Using zoom = 11...\n",
      "\n",
      "Using zoom = 11...\n",
      "\n",
      "Saving 6.67 x 6.67 in image\n",
      "\n",
      "Saving 6.67 x 6.67 in image\n",
      "\n",
      "Saving 6.67 x 6.67 in image\n",
      "\n",
      "Saving 6.67 x 6.67 in image\n",
      "\n",
      "Saving 6.67 x 6.67 in image\n",
      "\n",
      "Saving 6.67 x 6.67 in image\n",
      "\n",
      "Saving 6.67 x 6.67 in image\n",
      "\n",
      "Saving 6.67 x 6.67 in image\n",
      "\n",
      "Saving 6.67 x 6.67 in image\n",
      "\n",
      "Saving 6.67 x 6.67 in image\n",
      "\n",
      "Saving 6.67 x 6.67 in image\n",
      "\n",
      "Saving 6.67 x 6.67 in image\n",
      "\n",
      "Saving 6.67 x 6.67 in image\n",
      "\n",
      "Saving 6.67 x 6.67 in image\n",
      "\n",
      "Saving 6.67 x 6.67 in image\n",
      "\n"
     ]
    },
    {
     "data": {
      "text/html": [
       "<strong>null device:</strong> 1"
      ],
      "text/latex": [
       "\\textbf{null device:} 1"
      ],
      "text/markdown": [
       "**null device:** 1"
      ],
      "text/plain": [
       "null device \n",
       "          1 "
      ]
     },
     "metadata": {},
     "output_type": "display_data"
    }
   ],
   "source": [
    "# each node has a latent threshold to become active from influence of neighbors\n",
    "V(location_graph_directed)$theta <- runif(vcount(location_graph_directed))\n",
    "thresholds <- V(location_graph_directed)$theta\n",
    "\n",
    "# change the active status to ON!, and initialize first active nodes!\n",
    "V(location_graph_directed)$active <- 0\n",
    "V(location_graph_directed)[start_nodes]$active <- 1\n",
    "\n",
    "# get directed weighted adjacency matrix\n",
    "adjacency_matrix <- get.adjacency(location_graph_directed,attr='weight')\n",
    "\n",
    "infection_plots <- list()\n",
    "# apply algorithm for T time steps\n",
    "for (t in seq_len(time_steps)){\n",
    "\n",
    "\n",
    "    sweeped_data <- sweep(adjacency_matrix,MARGIN=1,V(location_graph_directed)$active,'*')\n",
    "    new_active <- as.integer(Matrix::colSums(sweeped_data) > thresholds) |  V(location_graph_directed)$active\n",
    "    V(location_graph_directed)$active <- new_active\n",
    "\n",
    "    if (t%%5 == 0){\n",
    "    filename <- paste('images\\\\open_end_',sprintf(\"initial_infection_%d_btw\",n_initial_nodes),sprintf(\"_t%d_\",t),'.png')\n",
    "    infection_plots[[filename]] = qmplot(lon,lat,data=vertex_df,\n",
    "           colour = I('green'), \n",
    "           size = I(2), \n",
    "           darken = .3,\n",
    "          main=sprintf(\"Los Angeles @ t=%d\",t)) + theme(plot.title = element_text(size=22)) + \n",
    "    geom_point(data=vertex_df[V(location_graph_directed)$name[as.logical(V(location_graph_directed)$active)],],aes(x=lon,y=lat),colour='red',size=2)\n",
    "    }\n",
    "}\n",
    "for (i in seq_len(length(infection_plots))){\n",
    "    ggsave(names(infection_plots)[i],infection_plots[[i]])\n",
    "}\n",
    "dev.off()"
   ]
  },
  {
   "cell_type": "markdown",
   "id": "b488d00d",
   "metadata": {},
   "source": [
    "### Overlap data"
   ]
  },
  {
   "cell_type": "code",
   "execution_count": 28,
   "id": "d56a1b2e",
   "metadata": {},
   "outputs": [],
   "source": [
    "results_df <- data.frame(set_size=active_set_sizes)"
   ]
  },
  {
   "cell_type": "code",
   "execution_count": 31,
   "id": "4f413b2b",
   "metadata": {},
   "outputs": [],
   "source": [
    "load(file=\"influence_degree_random.RData\")\n",
    "results_df$random <- unlist(lapply(results_list,function (x){colMeans(x)[time_steps]}))\n",
    "load(file=\"influence_degree_degree.RData\")\n",
    "results_df$degree <- unlist(lapply(results_list,function (x){colMeans(x)[time_steps]}))\n",
    "load(file=\"influence_degree_btw.RData\")\n",
    "results_df$btw <- unlist(lapply(results_list,function (x){colMeans(x)[time_steps]}))"
   ]
  },
  {
   "cell_type": "code",
   "execution_count": 32,
   "id": "4b8bb402",
   "metadata": {},
   "outputs": [
    {
     "data": {
      "text/html": [
       "<table class=\"dataframe\">\n",
       "<caption>A data.frame: 8 × 4</caption>\n",
       "<thead>\n",
       "\t<tr><th scope=col>set_size</th><th scope=col>btw</th><th scope=col>random</th><th scope=col>degree</th></tr>\n",
       "\t<tr><th scope=col>&lt;dbl&gt;</th><th scope=col>&lt;dbl&gt;</th><th scope=col>&lt;dbl&gt;</th><th scope=col>&lt;dbl&gt;</th></tr>\n",
       "</thead>\n",
       "<tbody>\n",
       "\t<tr><td> 5</td><td>126.799</td><td>138.845</td><td>198.401</td></tr>\n",
       "\t<tr><td>10</td><td>204.903</td><td>228.339</td><td>300.514</td></tr>\n",
       "\t<tr><td>15</td><td>292.362</td><td>328.826</td><td>381.509</td></tr>\n",
       "\t<tr><td>20</td><td>344.641</td><td>328.966</td><td>441.671</td></tr>\n",
       "\t<tr><td>25</td><td>400.048</td><td>390.811</td><td>472.302</td></tr>\n",
       "\t<tr><td>30</td><td>445.038</td><td>455.972</td><td>510.387</td></tr>\n",
       "\t<tr><td>45</td><td>515.503</td><td>512.107</td><td>557.643</td></tr>\n",
       "\t<tr><td>50</td><td>535.163</td><td>533.745</td><td>570.472</td></tr>\n",
       "</tbody>\n",
       "</table>\n"
      ],
      "text/latex": [
       "A data.frame: 8 × 4\n",
       "\\begin{tabular}{llll}\n",
       " set\\_size & btw & random & degree\\\\\n",
       " <dbl> & <dbl> & <dbl> & <dbl>\\\\\n",
       "\\hline\n",
       "\t  5 & 126.799 & 138.845 & 198.401\\\\\n",
       "\t 10 & 204.903 & 228.339 & 300.514\\\\\n",
       "\t 15 & 292.362 & 328.826 & 381.509\\\\\n",
       "\t 20 & 344.641 & 328.966 & 441.671\\\\\n",
       "\t 25 & 400.048 & 390.811 & 472.302\\\\\n",
       "\t 30 & 445.038 & 455.972 & 510.387\\\\\n",
       "\t 45 & 515.503 & 512.107 & 557.643\\\\\n",
       "\t 50 & 535.163 & 533.745 & 570.472\\\\\n",
       "\\end{tabular}\n"
      ],
      "text/markdown": [
       "\n",
       "A data.frame: 8 × 4\n",
       "\n",
       "| set_size &lt;dbl&gt; | btw &lt;dbl&gt; | random &lt;dbl&gt; | degree &lt;dbl&gt; |\n",
       "|---|---|---|---|\n",
       "|  5 | 126.799 | 138.845 | 198.401 |\n",
       "| 10 | 204.903 | 228.339 | 300.514 |\n",
       "| 15 | 292.362 | 328.826 | 381.509 |\n",
       "| 20 | 344.641 | 328.966 | 441.671 |\n",
       "| 25 | 400.048 | 390.811 | 472.302 |\n",
       "| 30 | 445.038 | 455.972 | 510.387 |\n",
       "| 45 | 515.503 | 512.107 | 557.643 |\n",
       "| 50 | 535.163 | 533.745 | 570.472 |\n",
       "\n"
      ],
      "text/plain": [
       "  set_size btw     random  degree \n",
       "1  5       126.799 138.845 198.401\n",
       "2 10       204.903 228.339 300.514\n",
       "3 15       292.362 328.826 381.509\n",
       "4 20       344.641 328.966 441.671\n",
       "5 25       400.048 390.811 472.302\n",
       "6 30       445.038 455.972 510.387\n",
       "7 45       515.503 512.107 557.643\n",
       "8 50       535.163 533.745 570.472"
      ]
     },
     "metadata": {},
     "output_type": "display_data"
    }
   ],
   "source": [
    "results_df"
   ]
  },
  {
   "cell_type": "code",
   "execution_count": 54,
   "id": "676d7e27",
   "metadata": {},
   "outputs": [],
   "source": [
    "plot_all <- ggplot(results_df, aes(set_size)) + \n",
    "  geom_line(aes(y = btw, colour = \"betweeness\")) + \n",
    "  geom_line(aes(y = random, colour = \"random\")) +\n",
    "  geom_line(aes(y = degree, colour = \"degree\")) + xlab(\"Active Set Size\") + ylab(\"Number of Influenced @ t=75\") +\n",
    "theme_grey(base_size=12) + theme(aspect.ratio=.75)\n",
    "ggsave(plot = plot_all, width = 6.75, height = 6.75, dpi = 300, filename = \"imagactive_size_all.png\")"
   ]
  }
 ],
 "metadata": {
  "kernelspec": {
   "display_name": "R",
   "language": "R",
   "name": "ir"
  },
  "language_info": {
   "codemirror_mode": "r",
   "file_extension": ".r",
   "mimetype": "text/x-r-source",
   "name": "R",
   "pygments_lexer": "r",
   "version": "4.1.1"
  }
 },
 "nbformat": 4,
 "nbformat_minor": 5
}
