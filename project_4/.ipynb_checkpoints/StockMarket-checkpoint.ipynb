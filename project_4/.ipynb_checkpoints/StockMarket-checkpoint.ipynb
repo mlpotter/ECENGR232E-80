{
 "cells": [
  {
   "cell_type": "code",
   "execution_count": 11,
   "id": "296862d2",
   "metadata": {},
   "outputs": [],
   "source": [
    "library(igraph)"
   ]
  },
  {
   "cell_type": "markdown",
   "id": "ca9d3560",
   "metadata": {},
   "source": [
    "# Stock Market"
   ]
  },
  {
   "cell_type": "code",
   "execution_count": 12,
   "id": "c452f3fe",
   "metadata": {},
   "outputs": [],
   "source": [
    "stock_path <- \"finance_data\\\\data\"\n",
    "sector_path <- \"finance_data\""
   ]
  },
  {
   "cell_type": "code",
   "execution_count": 13,
   "id": "40f72b07",
   "metadata": {},
   "outputs": [],
   "source": [
    "stock_names <- unlist(sapply(list.files(path = stock_path),function (x) {strsplit(x,\".csv\")}))\n",
    "names(stock_names) <- NULL"
   ]
  },
  {
   "cell_type": "code",
   "execution_count": 14,
   "id": "02b70cfb",
   "metadata": {},
   "outputs": [],
   "source": [
    "stocks_dfs <- lapply(list.files(path = stock_path),\n",
    "       function (x) {read.csv(file.path(stock_path, x))})"
   ]
  },
  {
   "cell_type": "code",
   "execution_count": 15,
   "id": "fbbf179a",
   "metadata": {},
   "outputs": [],
   "source": [
    "names(stocks_dfs) <-stock_names"
   ]
  },
  {
   "cell_type": "code",
   "execution_count": 16,
   "id": "c1c1261a",
   "metadata": {},
   "outputs": [],
   "source": [
    "sector_df <- read.csv(file.path(sector_path,\"Name_sector.csv\"))"
   ]
  },
  {
   "cell_type": "markdown",
   "id": "82910ffd",
   "metadata": {},
   "source": [
    "## 1. Return Correlation"
   ]
  },
  {
   "cell_type": "code",
   "execution_count": 40,
   "id": "e9edc765",
   "metadata": {},
   "outputs": [],
   "source": [
    "N_stocks <- nrow(sector_df)"
   ]
  },
  {
   "cell_type": "code",
   "execution_count": 44,
   "id": "050e43b6",
   "metadata": {},
   "outputs": [],
   "source": [
    "stock_correlation_matrix <- matrix(nrow=N_stocks,\n",
    "       ncol=N_stocks,\n",
    "       dimnames=list(stock_names,stock_names))"
   ]
  },
  {
   "cell_type": "code",
   "execution_count": 64,
   "id": "be87e14d",
   "metadata": {},
   "outputs": [],
   "source": [
    "stock_return = function (p){\n",
    "    q <- diff(p)/p[1:(length(p)-1)]\n",
    "    return(q)\n",
    "}"
   ]
  },
  {
   "cell_type": "code",
   "execution_count": 101,
   "id": "4354f03c",
   "metadata": {},
   "outputs": [],
   "source": [
    "log_norm_stock_return = function(q){\n",
    "    return(log(1+q))\n",
    "}"
   ]
  },
  {
   "cell_type": "code",
   "execution_count": 118,
   "id": "abe6e228",
   "metadata": {},
   "outputs": [],
   "source": [
    "for (i in 2:nrow(sector_df)){\n",
    "    for (j in (i+1):nrow(sector_df)){\n",
    "        stocki <- stocks_dfs[[i]]\n",
    "        stockj <- stocks_dfs[[j]]\n",
    "        \n",
    "        stocki_date <- stock1$Date\n",
    "        stockj_date <- stock2$Date\n",
    "        \n",
    "        idxi <- (stocki_date %in% stockj_date)\n",
    "        idxj <- (stockj_date %in% stocki_date)\n",
    "        \n",
    "        p1 <- stocki$Close[idx1]\n",
    "        p2 <- stockj$Close[idx2]\n",
    "        \n",
    "        q1 <- stock_return(p1)\n",
    "        q2 <- stock_return(p2)\n",
    "        \n",
    "        r1 <- log_norm_stock_return(q1)\n",
    "        r2 <- log_norm_stock_return(q2)\n",
    "        \n",
    "        correlation_ij <- cor(r1,r2)#(mean(r1*r2) - mean(r1)*mean(r2)) / sqrt((mean(r1^2) - mean(r1)^2) * (mean(r2^2)*mean(r2)^2))\n",
    "        stock_correlation_matrix[i,j] <- correlation_ij\n",
    "    }   \n",
    "}"
   ]
  },
  {
   "cell_type": "code",
   "execution_count": 120,
   "id": "e8bcd360",
   "metadata": {},
   "outputs": [
    {
     "data": {
      "text/html": [
       "1.82276713338177e-07"
      ],
      "text/latex": [
       "1.82276713338177e-07"
      ],
      "text/markdown": [
       "1.82276713338177e-07"
      ],
      "text/plain": [
       "[1] 1.822767e-07"
      ]
     },
     "metadata": {},
     "output_type": "display_data"
    }
   ],
   "source": [
    "mean(r1)*mean(r2)*2 - mean(r1)^2 * mean(r2)^2"
   ]
  },
  {
   "cell_type": "code",
   "execution_count": 113,
   "id": "341384c7",
   "metadata": {},
   "outputs": [
    {
     "data": {
      "text/html": [
       "9.11383608221888e-08"
      ],
      "text/latex": [
       "9.11383608221888e-08"
      ],
      "text/markdown": [
       "9.11383608221888e-08"
      ],
      "text/plain": [
       "[1] 9.113836e-08"
      ]
     },
     "metadata": {},
     "output_type": "display_data"
    }
   ],
   "source": [
    "mean(r1)*mean(r2)"
   ]
  },
  {
   "cell_type": "code",
   "execution_count": 112,
   "id": "eb6c0070",
   "metadata": {
    "scrolled": true
   },
   "outputs": [
    {
     "data": {
      "text/html": [
       "0.000544260362859927"
      ],
      "text/latex": [
       "0.000544260362859927"
      ],
      "text/markdown": [
       "0.000544260362859927"
      ],
      "text/plain": [
       "[1] 0.0005442604"
      ]
     },
     "metadata": {},
     "output_type": "display_data"
    }
   ],
   "source": [
    "mean(r1*r2)"
   ]
  },
  {
   "cell_type": "code",
   "execution_count": 106,
   "id": "9a88d708",
   "metadata": {},
   "outputs": [
    {
     "data": {
      "text/html": [
       "1"
      ],
      "text/latex": [
       "1"
      ],
      "text/markdown": [
       "1"
      ],
      "text/plain": [
       "[1] 1"
      ]
     },
     "metadata": {},
     "output_type": "display_data"
    }
   ],
   "source": [
    "cor(r1,r2)"
   ]
  },
  {
   "cell_type": "code",
   "execution_count": 95,
   "id": "bc9f3502",
   "metadata": {},
   "outputs": [
    {
     "data": {
      "text/html": [
       "3312.1731192978"
      ],
      "text/latex": [
       "3312.1731192978"
      ],
      "text/markdown": [
       "3312.1731192978"
      ],
      "text/plain": [
       "[1] 3312.173"
      ]
     },
     "metadata": {},
     "output_type": "display_data"
    }
   ],
   "source": [
    "(mean(r1*r2) - mean(r1)*mean(r2)) / sqrt((mean(r1^2) - mean(r1)^2) * (mean(r2^2)*mean(r2)^2))"
   ]
  },
  {
   "cell_type": "code",
   "execution_count": 92,
   "id": "2cec9ea3",
   "metadata": {},
   "outputs": [
    {
     "data": {
      "text/html": [
       "2.69924245907372e-14"
      ],
      "text/latex": [
       "2.69924245907372e-14"
      ],
      "text/markdown": [
       "2.69924245907372e-14"
      ],
      "text/plain": [
       "[1] 2.699242e-14"
      ]
     },
     "metadata": {},
     "output_type": "display_data"
    }
   ],
   "source": [
    "(mean(r1^2) - mean(r1)^2) * (mean(r2^2)*mean(r2)^2)"
   ]
  }
 ],
 "metadata": {
  "kernelspec": {
   "display_name": "R",
   "language": "R",
   "name": "ir"
  },
  "language_info": {
   "codemirror_mode": "r",
   "file_extension": ".r",
   "mimetype": "text/x-r-source",
   "name": "R",
   "pygments_lexer": "r",
   "version": "3.6.1"
  }
 },
 "nbformat": 4,
 "nbformat_minor": 5
}
