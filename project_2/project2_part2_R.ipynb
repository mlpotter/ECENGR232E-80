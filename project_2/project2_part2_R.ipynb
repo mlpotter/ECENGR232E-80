{
 "cells": [
  {
   "cell_type": "code",
   "execution_count": 49,
   "id": "b76c1632",
   "metadata": {},
   "outputs": [],
   "source": [
    "library(latex2exp)\n",
    "library(igraph)\n",
    "library(ggplot2)\n",
    "library(pracma)\n",
    "library(scales)\n",
    "library(data.table)\n",
    "library(plyr)\n",
    "library(readr)\n",
    "library(stringr)"
   ]
  },
  {
   "cell_type": "markdown",
   "id": "8930d910",
   "metadata": {},
   "source": [
    "### Question 18"
   ]
  },
  {
   "cell_type": "markdown",
   "id": "acd78eef-27d1-4579-9c2b-c3862efd2a31",
   "metadata": {
    "tags": []
   },
   "source": [
    "#### Set the path to the gplus files"
   ]
  },
  {
   "cell_type": "code",
   "execution_count": 31,
   "id": "5089aad7-8780-4300-b640-d7aa8bc12ecf",
   "metadata": {
    "tags": []
   },
   "outputs": [],
   "source": [
    "path = \"C:\\\\Users\\\\andersons1\\\\OneDrive - Anglo American\\\\Desktop\\\\ECE 232\\\\ECENGR232E-80\\\\ECENGR232E-80\\\\project_2\\\\gplus\\\\\""
   ]
  },
  {
   "cell_type": "markdown",
   "id": "8a96f923-0de9-457e-8322-ca162760c758",
   "metadata": {},
   "source": [
    "#### Get list of .circles files and remove one empty file"
   ]
  },
  {
   "cell_type": "code",
   "execution_count": 31,
   "id": "227567f6-d7ce-4fd6-bb22-c4b247df0f7f",
   "metadata": {
    "tags": []
   },
   "outputs": [],
   "source": [
    "circle_files <- list.files(path=path, pattern=\"*.circles\", full.names=TRUE, recursive=FALSE)\n",
    "circle_files <- circle_files[!circle_files %in% \"C:\\\\Users\\\\andersons1\\\\OneDrive - Anglo American\\\\Desktop\\\\ECE 232\\\\ECENGR232E-80\\\\ECENGR232E-80\\\\project_2\\\\gplus\\\\111278293763545982455.circles\"]"
   ]
  },
  {
   "cell_type": "markdown",
   "id": "823edde8-ac8b-4f89-8b0a-59dd2dc28dbc",
   "metadata": {},
   "source": [
    "#### Collect each .circle file as a list of lists"
   ]
  },
  {
   "cell_type": "code",
   "execution_count": 33,
   "id": "42635092-01cd-43b0-b79f-15b7bb5d30a1",
   "metadata": {},
   "outputs": [],
   "source": [
    "circles <- lapply(circle_files, function(x) {\n",
    "  \n",
    "  #read the .circle file\n",
    "  ncol <- max(count.fields(x, sep=\"\\t\"))\n",
    "  d <- read.table(\n",
    "    x, \n",
    "    header = FALSE, \n",
    "    sep = \"\\t\", \n",
    "    fill = TRUE,\n",
    "    as.is = TRUE,\n",
    "    col.names= paste0('V', seq_len(ncol))\n",
    "    )\n",
    "  \n",
    "  #reorganize d as a data.frame\n",
    "  names <- t(d)[1,]\n",
    "  d <- t(d[,-1])\n",
    "  d <- data.frame(d)\n",
    "  names(d) = names\n",
    "  \n",
    "  #append the ego node from the filename into the circle\n",
    "  ego_node_id <- as.numeric(str_sub(x,-1*nchar(\"111278293763545982455.circles\"),-9))\n",
    "  egos <- rep(ego_node_id, times=ncol(d))\n",
    "  d <- rbind(d,egos)\n",
    "  rownames(d) <- c(1:nrow(d))\n",
    "  d\n",
    "  \n",
    "})"
   ]
  },
  {
   "cell_type": "markdown",
   "id": "4ac6ba73-5a25-48ac-b1c8-ae8b30bf6edd",
   "metadata": {},
   "source": [
    "#### Count ego nodes with .circles files that belong to more than n circles"
   ]
  },
  {
   "cell_type": "code",
   "execution_count": 41,
   "id": "b4b29ab0-e026-4544-800f-62be51f187c3",
   "metadata": {},
   "outputs": [],
   "source": [
    "n_circles <- 2\n",
    "egos_over_two <- length(lengths(circles)[lengths(circles)>n_circles])"
   ]
  },
  {
   "cell_type": "markdown",
   "id": "e5e25de4-593c-467b-a95a-d06beae7a42a",
   "metadata": {},
   "source": [
    "#### Count the number of circles"
   ]
  },
  {
   "cell_type": "code",
   "execution_count": 42,
   "id": "7318674c-0057-4fe7-97e7-da19a0fea0e5",
   "metadata": {},
   "outputs": [
    {
     "name": "stdout",
     "output_type": "stream",
     "text": [
      "[1] \"The number of circles is:  63531\"\n"
     ]
    }
   ],
   "source": [
    "#convert circles into a list of vectors representing one circle each\n",
    "circles <- unlist(circles,recursive=F)\n",
    "print(paste(\"The number of circles is: \",length(circles)))"
   ]
  },
  {
   "cell_type": "markdown",
   "id": "43632b8a-4dc8-4a95-82df-5bc9f4aca849",
   "metadata": {},
   "source": [
    "#### Count the number of circles each node belongs to"
   ]
  },
  {
   "cell_type": "code",
   "execution_count": 43,
   "id": "0ccd7484-4e30-4faa-98e5-a1420c14edf9",
   "metadata": {},
   "outputs": [],
   "source": [
    "#remove NA values from circles\n",
    "circles <- lapply(circles, function(x){x <- x[!is.na(x)]})"
   ]
  },
  {
   "cell_type": "code",
   "execution_count": 44,
   "id": "7bfe5cb6-d3ff-48ee-bd3d-773ed1143ffc",
   "metadata": {},
   "outputs": [],
   "source": [
    "#determine the list of nodes that are contained in at least one circle\n",
    "circle_nodes <- Reduce(union, circles)"
   ]
  },
  {
   "cell_type": "code",
   "execution_count": 45,
   "id": "8c5dfe00-a86c-45ee-b763-26c6c91fd6da",
   "metadata": {},
   "outputs": [
    {
     "name": "stdout",
     "output_type": "stream",
     "text": [
      "[1] \"The number of nodes belonging to more than 2 circles is: 6880\"\n"
     ]
    }
   ],
   "source": [
    "#determine the number of circles that each node belongs to\n",
    "circle_IDs <- Reduce(c, circles)\n",
    "circle_freq <- lapply(circle_nodes, function(x){sum(circle_IDs == x)})\n",
    "nodes_over_two <- length(circle_freq[circle_freq>2])\n",
    "print(paste(\"The number of nodes belonging to more than 2 circles is:\", nodes_over_two))\n"
   ]
  },
  {
   "cell_type": "markdown",
   "id": "156537be",
   "metadata": {},
   "source": [
    "### Question 19"
   ]
  },
  {
   "cell_type": "markdown",
   "id": "cf244b99-7f80-408f-b4ea-a72f651731fd",
   "metadata": {},
   "source": [
    "#### Load the desired .edges files"
   ]
  },
  {
   "cell_type": "code",
   "execution_count": null,
   "id": "61ada0e3-4a4d-43b0-a537-554d85c772ee",
   "metadata": {},
   "outputs": [],
   "source": [
    "nodes <- c(\"109327480479767108490\",\"115625564993990145546\",\"101373961279443806744\")\n",
    "edge_files <- c(paste(path,nodes,\".edges\",sep=\"\"))\n",
    "print(edge_files)"
   ]
  },
  {
   "cell_type": "markdown",
   "id": "cbf09328-c27f-46c7-bf9c-5dce213204a5",
   "metadata": {},
   "source": [
    "#### Load the files and add in the edges for the ego node"
   ]
  },
  {
   "cell_type": "code",
   "execution_count": null,
   "id": "74719d78-a28a-4ff2-baf0-bb97c1a91b48",
   "metadata": {},
   "outputs": [],
   "source": [
    "edges <- lapply(edge_files, function(x){\n",
    "    d <- read.table(x, header = FALSE, sep = \"\\t\", as.is = TRUE)\n",
    "})\n",
    "head(edges)"
   ]
  },
  {
   "cell_type": "code",
   "execution_count": null,
   "id": "adaa2371-9c92-4bf4-9f35-e4eea19a65ad",
   "metadata": {},
   "outputs": [],
   "source": [
    "g_gp = graph_from_edgelist(g_gpe, directed = FALSE)"
   ]
  },
  {
   "cell_type": "code",
   "execution_count": null,
   "id": "83dd4c66-5e4d-4b69-a42d-0e042069ac9c",
   "metadata": {},
   "outputs": [],
   "source": [
    "node_ids <- c(109327480479767108490,115625564993990145546,101373961279443806744)\n",
    "\n",
    "g1 = make_ego_graph(g_gp, 1, nodes=V(g_gp)[node_ids[1]])\n",
    "g2 = make_ego_graph(g_gp, 1, nodes=V(g_gp)[node_ids[2]])\n",
    "g3 = make_ego_graph(g_gp, 1, nodes=V(g_gp)[node_ids[3]])\n",
    "\n",
    "plot(degree.distribution(g1,mode=\"in\"),\n",
    "     col='red',\n",
    "     main='v1 in-degree distribution',\n",
    "     xlab=\"Node In-Degree\",\n",
    "     ylab=\"Degree Probability\")\n",
    "\n",
    "dev.copy(png,'images\\\\question19_v1_in.png')\n",
    "dev.off()\n",
    "\n",
    "plot(degree.distribution(g2,mode=\"in\"),\n",
    "     col='red',\n",
    "     main='v2 in-degree distribution',\n",
    "     xlab=\"Node In-Degree\",\n",
    "     ylab=\"Degree Probability\")\n",
    "\n",
    "dev.copy(png,'images\\\\question19_v2_in.png')\n",
    "dev.off()\n",
    "\n",
    "plot(degree.distribution(g3,mode=\"in\"),\n",
    "     col='red',\n",
    "     main='v3 in-degree distribution',\n",
    "     xlab=\"Node In-Degree\",\n",
    "     ylab=\"Degree Probability\")\n",
    "\n",
    "dev.copy(png,'images\\\\question19_v3_in.png')\n",
    "dev.off()\n",
    "\n",
    "plot(degree.distribution(g1,mode=\"out\"),\n",
    "     col='red',\n",
    "     main='v1 out-degree distribution',\n",
    "     xlab=\"Node In-Degree\",\n",
    "     ylab=\"Degree Probability\")\n",
    "\n",
    "dev.copy(png,'images\\\\question19_v1_out.png')\n",
    "dev.off()\n",
    "\n",
    "plot(degree.distribution(g2,mode=\"out\"),\n",
    "     col='red',\n",
    "     main='v2 out-degree distribution',\n",
    "     xlab=\"Node In-Degree\",\n",
    "     ylab=\"Degree Probability\")\n",
    "\n",
    "dev.copy(png,'images\\\\question19_v2_out.png')\n",
    "dev.off()\n",
    "\n",
    "plot(degree.distribution(g3,mode=\"out\"),\n",
    "     col='red',\n",
    "     main='v3 out-degree distribution',\n",
    "     xlab=\"Node In-Degree\",\n",
    "     ylab=\"Degree Probability\")\n",
    "\n",
    "dev.copy(png,'images\\\\question19_v3_out.png')\n",
    "dev.off()"
   ]
  },
  {
   "cell_type": "markdown",
   "id": "054e681c-e211-4c52-b3ab-52a2d831ce95",
   "metadata": {},
   "source": [
    "### Question 20"
   ]
  },
  {
   "cell_type": "code",
   "execution_count": null,
   "id": "b3ef9edc-aaf2-462c-9072-1ec31aae80a5",
   "metadata": {},
   "outputs": [],
   "source": [
    "#compute communities\n",
    "c1 = cluster_walktrap(g1)\n",
    "c2 = cluster_walktrap(g2)\n",
    "c3 = cluster_walktrap(g3)\n",
    "\n",
    "#compute modularities\n",
    "m1 = modularity(c1)\n",
    "m2 = modularity(c2)\n",
    "m3 = modularity(c3)\n",
    "\n",
    "#plot community structure\n",
    "plot(c1,g1,layout=layout_with_kk(g1))\n",
    "plot(c2,g2,layout=layout_with_kk(g2))\n",
    "plot(c3,g3,layout=layout_with_kk(g3))"
   ]
  },
  {
   "cell_type": "markdown",
   "id": "088387ac-9677-4976-a6e2-9885a6cafff5",
   "metadata": {},
   "source": [
    "### Question 22"
   ]
  }
 ],
 "metadata": {
  "kernelspec": {
   "display_name": "R",
   "language": "R",
   "name": "ir"
  },
  "language_info": {
   "codemirror_mode": "r",
   "file_extension": ".r",
   "mimetype": "text/x-r-source",
   "name": "R",
   "pygments_lexer": "r",
   "version": "4.1.0"
  }
 },
 "nbformat": 4,
 "nbformat_minor": 5
}
