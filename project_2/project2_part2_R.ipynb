{
 "cells": [
  {
   "cell_type": "code",
   "execution_count": null,
   "id": "b76c1632",
   "metadata": {},
   "outputs": [],
   "source": [
    "library(latex2exp)\n",
    "library(igraph)\n",
    "library(ggplot2)\n",
    "library(pracma)\n",
    "library(scales)"
   ]
  },
  {
   "cell_type": "code",
   "execution_count": null,
   "id": "5955de7d",
   "metadata": {},
   "outputs": [],
   "source": [
    "library(data.table)"
   ]
  },
  {
   "cell_type": "markdown",
   "id": "8930d910",
   "metadata": {},
   "source": [
    "### Question 18"
   ]
  },
  {
   "cell_type": "code",
   "execution_count": null,
   "id": "8e655a97-e870-441b-9950-356d8e6fcbaf",
   "metadata": {},
   "outputs": [],
   "source": [
    "# The answer is the number of .circle files in gplus.tar.gz with >=2 lines. "
   ]
  },
  {
   "cell_type": "markdown",
   "id": "156537be",
   "metadata": {},
   "source": [
    "### Question 19"
   ]
  },
  {
   "cell_type": "code",
   "execution_count": null,
   "id": "a4f37630",
   "metadata": {},
   "outputs": [],
   "source": [
    "path = \"C:\\\\Users\\\\andersons1\\\\OneDrive - Anglo American\\\\Desktop\\\\ECE 232\\\\ECENGR232E-80\\\\ECENGR232E-80\\\\project_2\\\\gplus_combined.txt.gz\"\n",
    "g_gpe = as.matrix(read.table(path, header = FALSE, sep = \" \")) + 1\n",
    "g_gp = graph_from_edgelist(g_gpe, directed = FALSE)"
   ]
  },
  {
   "cell_type": "code",
   "execution_count": null,
   "id": "83dd4c66-5e4d-4b69-a42d-0e042069ac9c",
   "metadata": {},
   "outputs": [],
   "source": [
    "node_ids <- c(109327480479767108490,115625564993990145546,101373961279443806744)\n",
    "\n",
    "g1 = make_ego_graph(g_gp, 1, nodes=V(g_gp)[node_ids[1]])\n",
    "g2 = make_ego_graph(g_gp, 1, nodes=V(g_gp)[node_ids[2]])\n",
    "g3 = make_ego_graph(g_gp, 1, nodes=V(g_gp)[node_ids[3]])\n",
    "\n",
    "plot(degree.distribution(g1,mode=\"in\"),\n",
    "     col='red',\n",
    "     main='v1 in-degree distribution',\n",
    "     xlab=\"Node In-Degree\",\n",
    "     ylab=\"Degree Probability\")\n",
    "\n",
    "dev.copy(png,'images\\\\question19_v1_in.png')\n",
    "dev.off()\n",
    "\n",
    "plot(degree.distribution(g2,mode=\"in\"),\n",
    "     col='red',\n",
    "     main='v2 in-degree distribution',\n",
    "     xlab=\"Node In-Degree\",\n",
    "     ylab=\"Degree Probability\")\n",
    "\n",
    "dev.copy(png,'images\\\\question19_v2_in.png')\n",
    "dev.off()\n",
    "\n",
    "plot(degree.distribution(g3,mode=\"in\"),\n",
    "     col='red',\n",
    "     main='v3 in-degree distribution',\n",
    "     xlab=\"Node In-Degree\",\n",
    "     ylab=\"Degree Probability\")\n",
    "\n",
    "dev.copy(png,'images\\\\question19_v3_in.png')\n",
    "dev.off()\n",
    "\n",
    "plot(degree.distribution(g1,mode=\"out\"),\n",
    "     col='red',\n",
    "     main='v1 out-degree distribution',\n",
    "     xlab=\"Node In-Degree\",\n",
    "     ylab=\"Degree Probability\")\n",
    "\n",
    "dev.copy(png,'images\\\\question19_v1_out.png')\n",
    "dev.off()\n",
    "\n",
    "plot(degree.distribution(g2,mode=\"out\"),\n",
    "     col='red',\n",
    "     main='v2 out-degree distribution',\n",
    "     xlab=\"Node In-Degree\",\n",
    "     ylab=\"Degree Probability\")\n",
    "\n",
    "dev.copy(png,'images\\\\question19_v2_out.png')\n",
    "dev.off()\n",
    "\n",
    "plot(degree.distribution(g3,mode=\"out\"),\n",
    "     col='red',\n",
    "     main='v3 out-degree distribution',\n",
    "     xlab=\"Node In-Degree\",\n",
    "     ylab=\"Degree Probability\")\n",
    "\n",
    "dev.copy(png,'images\\\\question19_v3_out.png')\n",
    "dev.off()"
   ]
  },
  {
   "cell_type": "markdown",
   "id": "054e681c-e211-4c52-b3ab-52a2d831ce95",
   "metadata": {},
   "source": [
    "### Question 20"
   ]
  },
  {
   "cell_type": "code",
   "execution_count": null,
   "id": "b3ef9edc-aaf2-462c-9072-1ec31aae80a5",
   "metadata": {},
   "outputs": [],
   "source": [
    "#compute communities\n",
    "c1 = cluster_walktrap(g1)\n",
    "c2 = cluster_walktrap(g2)\n",
    "c3 = cluster_walktrap(g3)\n",
    "\n",
    "#compute modularities\n",
    "m1 = modularity(c1)\n",
    "m2 = modularity(c2)\n",
    "m3 = modularity(c3)\n",
    "\n",
    "#plot community structure\n",
    "plot(c1,g1,layout=layout_with_kk(g1))\n",
    "plot(c2,g2,layout=layout_with_kk(g2))\n",
    "plot(c3,g3,layout=layout_with_kk(g3))"
   ]
  },
  {
   "cell_type": "markdown",
   "id": "088387ac-9677-4976-a6e2-9885a6cafff5",
   "metadata": {},
   "source": [
    "### Question 22"
   ]
  }
 ],
 "metadata": {
  "kernelspec": {
   "display_name": "R",
   "language": "R",
   "name": "ir"
  },
  "language_info": {
   "codemirror_mode": "r",
   "file_extension": ".r",
   "mimetype": "text/x-r-source",
   "name": "R",
   "pygments_lexer": "r",
   "version": "4.1.0"
  }
 },
 "nbformat": 4,
 "nbformat_minor": 5
}
